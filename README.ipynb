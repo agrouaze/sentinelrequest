{
 "cells": [
  {
   "cell_type": "markdown",
   "metadata": {},
   "source": [
    "# sentinelRequest\n",
    "\n",
    "sentinelRequest can be used to colocate a geodataframe (ie areas, trajectories, buoys, etc ...) with sentinel (1, but also 2 , 3 : all known by scihub)"
   ]
  },
  {
   "cell_type": "markdown",
   "metadata": {},
   "source": [
    "## Install\n",
    "\n",
    "\n",
    "\n",
    "```\n",
    "% conda install  lxml numpy geopandas shapely requests fiona\n",
    "% pip install git+https://gitlab.ifremer.fr/sarwing/sentinelrequest.git\n",
    "```\n",
    "\n"
   ]
  },
  {
   "cell_type": "markdown",
   "metadata": {},
   "source": [
    "## CLI usage"
   ]
  },
  {
   "cell_type": "code",
   "execution_count": 1,
   "metadata": {},
   "outputs": [
    {
     "name": "stdout",
     "output_type": "stream",
     "text": [
      "Traceback (most recent call last):\r\n",
      "  File \"/home/losafe/users/oarcher/conda_sentinelRequest/bin/sentinelRequest\", line 7, in <module>\r\n",
      "    exec(compile(f.read(), __file__, 'exec'))\r\n",
      "  File \"/home1/datahome/oarcher/sarwing_project/sentinelrequest/bin/sentinelRequest\", line 9, in <module>\r\n",
      "    from sentinelRequest import scihubQuery\r\n",
      "  File \"/home1/datahome/oarcher/sarwing_project/sentinelrequest/sentinelRequest/__init__.py\", line 499\r\n",
      "    if not gdf_slice.empty: \r\n",
      "    ^\r\n",
      "IndentationError: expected an indented block\r\n"
     ]
    }
   ],
   "source": [
    "!sentinelRequest --help"
   ]
  },
  {
   "cell_type": "markdown",
   "metadata": {},
   "source": [
    "### \"One shot\" from command line:\n",
    "\n",
    "`\n",
    "% sentinelRequest --user=xxxx --password=xxxxx --date='2018-09-23 00:00' --date='2018-09-23 12:00' --filename='S1?_?W_GRD*.SAFE' --cachedir=/home1/scratch/oarcher/scihub_cache/ --wkt='POLYGON ((-10 75, -10 86, 12 86, 12 84, -10 75))'\n",
    "`\n",
    "\n",
    "```\n",
    "INFO:sentinelRequest:from 2018-09-23 00:00:00 to 2018-09-23 12:00:00 : 11 SAFES\n",
    "INFO:sentinelRequest:Total : 11 SAFES\n",
    "filename\n",
    "S1B_EW_GRDM_1SDH_20180923T071854_20180923T071954_012839_017B47_17F2.SAFE\n",
    "S1B_EW_GRDM_1SDH_20180923T071954_20180923T072054_012839_017B47_1E6F.SAFE\n",
    "S1B_EW_GRDM_1SDH_20180923T072054_20180923T072154_012839_017B47_CD41.SAFE\n",
    "S1B_EW_GRDM_1SDH_20180923T072154_20180923T072254_012839_017B47_3682.SAFE\n",
    "S1A_EW_GRDM_1SDH_20180923T081003_20180923T081107_023823_02997B_049A.SAFE\n",
    "S1A_EW_GRDM_1SDH_20180923T081107_20180923T081207_023823_02997B_6EA6.SAFE\n",
    "S1B_EW_GRDM_1SDH_20180923T085656_20180923T085756_012840_017B4E_B07B.SAFE\n",
    "S1B_EW_GRDM_1SDH_20180923T085756_20180923T085856_012840_017B4E_6CAD.SAFE\n",
    "S1B_EW_GRDM_1SDH_20180923T085856_20180923T085956_012840_017B4E_1CCD.SAFE\n",
    "S1B_EW_GRDM_1SDH_20180923T103504_20180923T103604_012841_017B54_DBBC.SAFE\n",
    "S1B_EW_GRDM_1SDH_20180923T103604_20180923T103704_012841_017B54_B267.SAFE\n",
    "```\n",
    "\n",
    "### From csv file\n",
    "\n",
    "`\n",
    "% cat test.csv\n",
    "`\n",
    "```\n",
    "index;startdate;stopdate;geometry\n",
    "area1;2018-10-02 00:00;2018-10-02 21:00;POLYGON ((-12 35, -5 35, -5 45, -12 45, -12 35))\n",
    "area2;2018-10-13 06:00;2018-10-13 21:00;POLYGON ((-10 32, -3 32, -3 42, -10 42, -10 32))\n",
    "area3;2018-10-13 00:00;2018-10-13 18:00;POLYGON ((12 35, 5 35, 5 45, 12 45, 12 35))\n",
    "```\n",
    "\n",
    "`\n",
    "% sentinelRequest --user=xxxx --password=xxxx --infile=test.csv --filename='S1?_?W_GRD*.SAFE' --cachedir=/home1/scratch/oarcher/scihub_cache/ --cols=index,filename\n",
    "`\n",
    "\n",
    "```\n",
    "INFO:sentinelRequest:req 1/2 from 2018-10-02 00:00:00 to 2018-10-02 21:00:00 : 9/21 SAFES\n",
    "INFO:sentinelRequest:req 2/2 from 2018-10-13 00:00:00 to 2018-10-13 21:00:00 : 30/35 SAFES\n",
    "INFO:sentinelRequest:Total : 39 SAFES\n",
    "index;filename\n",
    "area1;S1A_IW_GRDH_1SDV_20181002T061827_20181002T061852_023953_029DA0_C61E.SAFE\n",
    "area1;S1B_IW_GRDH_1SDV_20181002T181105_20181002T181130_012977_017F7D_FE88.SAFE\n",
    "area1;S1B_IW_GRDH_1SDV_20181002T181130_20181002T181155_012977_017F7D_93FF.SAFE\n",
    "area1;S1B_IW_GRDH_1SDV_20181002T181155_20181002T181222_012977_017F7D_CD9A.SAFE\n",
    "area3;S1A_IW_GRDH_1SDV_20181013T053545_20181013T053610_024113_02A2DB_D121.SAFE\n",
    "area3;S1A_IW_GRDH_1SDV_20181013T053815_20181013T053840_024113_02A2DB_7D53.SAFE\n",
    "area2;S1B_IW_GRDTH_1SDV_20181013T062502_20181013T062527_013130_018428_1E77.SAFE\n",
    "area2;S1B_IW_GRDH_1SDV_20181013T062527_20181013T062552_013130_018428_82AB.SAFE\n",
    "area2;S1B_IW_GRDH_1SDV_20181013T062642_20181013T062707_013130_018428_AB0E.SAFE\n",
    "area2;S1B_IW_GRDH_1SDV_20181013T062707_20181013T062732_013130_018428_8210.SAFE\n",
    "```\n",
    "\n",
    "If `--date` is specified 2 times with `--infile`, it will superseeds ones founds in infile :\n",
    "\n",
    "`\n",
    "sentinelRequest --user oarcher --password nliqt6u3 --infile=test.csv --date=last-monday-7days --date=now --filename='S1?_?W_GRD*.SAFE' --cachedir=/home1/scratch/oarcher/scihub_cache/ --cols=index,filename\n",
    "`\n",
    "\n"
   ]
  },
  {
   "cell_type": "markdown",
   "metadata": {},
   "source": [
    "## API usage"
   ]
  },
  {
   "cell_type": "code",
   "execution_count": 2,
   "metadata": {},
   "outputs": [
    {
     "ename": "IndentationError",
     "evalue": "expected an indented block (__init__.py, line 499)",
     "output_type": "error",
     "traceback": [
      "Traceback \u001b[0;36m(most recent call last)\u001b[0m:\n",
      "  File \u001b[1;32m\"/home/losafe/users/oarcher/conda_sentinelRequest/lib/python3.7/site-packages/IPython/core/interactiveshell.py\"\u001b[0m, line \u001b[1;32m3319\u001b[0m, in \u001b[1;35mrun_code\u001b[0m\n    exec(code_obj, self.user_global_ns, self.user_ns)\n",
      "\u001b[0;36m  File \u001b[0;32m\"<ipython-input-2-c1fa06f783d0>\"\u001b[0;36m, line \u001b[0;32m3\u001b[0;36m, in \u001b[0;35m<module>\u001b[0;36m\u001b[0m\n\u001b[0;31m    from sentinelRequest import scihubQuery\u001b[0m\n",
      "\u001b[0;36m  File \u001b[0;32m\"/home1/datahome/oarcher/sarwing_project/sentinelrequest/sentinelRequest/__init__.py\"\u001b[0;36m, line \u001b[0;32m499\u001b[0m\n\u001b[0;31m    if not gdf_slice.empty:\u001b[0m\n\u001b[0m    ^\u001b[0m\n\u001b[0;31mIndentationError\u001b[0m\u001b[0;31m:\u001b[0m expected an indented block\n"
     ]
    }
   ],
   "source": [
    "%matplotlib inline\n",
    "import geopandas as gpd\n",
    "from sentinelRequest import scihubQuery\n",
    "import datetime\n",
    "import matplotlib.pyplot as plt\n",
    "import shapely.wkt as wkt\n",
    "\n",
    "# get your own credential from  https://scihub.copernicus.eu/dhus\n",
    "import pickle\n",
    "user,password = pickle.load(open(\"credential.pkl\",\"rb\"))"
   ]
  },
  {
   "cell_type": "code",
   "execution_count": null,
   "metadata": {},
   "outputs": [],
   "source": [
    "help(scihubQuery)"
   ]
  },
  {
   "cell_type": "markdown",
   "metadata": {},
   "source": [
    "### Example 1 \n",
    "\n",
    "As an example, tree areas are defined:\n",
    "* Ireland, that space overlap with Gascogne, but not overlap it in time.\n",
    "* Gascogne and Portugal, that overlap in time and space"
   ]
  },
  {
   "cell_type": "code",
   "execution_count": null,
   "metadata": {},
   "outputs": [],
   "source": [
    "gdf = gpd.GeoDataFrame({\n",
    "        \"beginposition\" : [ datetime.datetime(2018,10,2,0), datetime.datetime(2018,10,13,6) ,  datetime.datetime(2018,10,13,0) ],\n",
    "        \"endposition\"   : [ datetime.datetime(2018,10,2,21) , datetime.datetime(2018,10,13,21) ,datetime.datetime(2018,10,13,18) ],\n",
    "        \"geometry\"      : [ wkt.loads(\"POINT (-7 53)\").buffer(4), wkt.loads(\"POINT (-5 45)\").buffer(5),  wkt.loads(\"POLYGON ((-12 35, -5 35, -5 45, -12 45, -12 35))\")]    \n",
    "    },index=[\"Irland\",\"Gascogne\",\"Portugal\"])\n",
    "gdf"
   ]
  },
  {
   "cell_type": "code",
   "execution_count": null,
   "metadata": {},
   "outputs": [],
   "source": [
    "fig = plt.figure(figsize=(10,7))\n",
    "safes = scihubQuery(\n",
    "        gdf=gdf,\n",
    "        min_sea_percent=20, \n",
    "        user=user,\n",
    "        password=password,\n",
    "        filename='S1?_?W_GRD*.SAFE',\n",
    "        cachedir='/home1/scratch/oarcher/scihub_cache',\n",
    "        fig=fig)\n"
   ]
  },
  {
   "cell_type": "markdown",
   "metadata": {},
   "source": [
    "User requested area are in green. They can be more complex shape than allowed by scihub, because shapes are simplified for the request (in red ). Once the request is done, a colocation is done with the originals shapes, to drop extraneaous safes (in yellow).\n",
    "\n",
    "Gascogne and Portugal areas are merged into a simplier big shape, because they are adjacent in time and space. Ireland is adjacent in space, but not in time (see example 2 for more infos).\n",
    "\n",
    "Green safes are safes over land (min_sea_percent).\n"
   ]
  },
  {
   "cell_type": "markdown",
   "metadata": {},
   "source": [
    "The result is a geodataframe with most information from scihub. Only colocated (ie blue) are returned:"
   ]
  },
  {
   "cell_type": "code",
   "execution_count": null,
   "metadata": {
    "scrolled": false
   },
   "outputs": [],
   "source": [
    "safes.iloc[0]"
   ]
  },
  {
   "cell_type": "markdown",
   "metadata": {},
   "source": [
    "Most fields are converted from str to python type (geometry, datetime, int ...)"
   ]
  },
  {
   "cell_type": "code",
   "execution_count": null,
   "metadata": {},
   "outputs": [],
   "source": [
    "safes['footprint'].plot()"
   ]
  },
  {
   "cell_type": "code",
   "execution_count": null,
   "metadata": {},
   "outputs": [],
   "source": [
    "print('safe was ingested %s after aquisition' % (safes.iloc[0]['ingestiondate']-safes.iloc[0]['endposition']))"
   ]
  },
  {
   "cell_type": "markdown",
   "metadata": {},
   "source": [
    "Index from original request are preserved, so it's easy to know the area that belong to a safe. (See end of example 2 for advanced index handling)."
   ]
  },
  {
   "cell_type": "code",
   "execution_count": null,
   "metadata": {},
   "outputs": [],
   "source": [
    "safes.loc['Portugal']"
   ]
  },
  {
   "cell_type": "markdown",
   "metadata": {},
   "source": [
    "Some safes are in both area (Portugal and Gascogne), because they overlap in space and time."
   ]
  },
  {
   "cell_type": "code",
   "execution_count": null,
   "metadata": {},
   "outputs": [],
   "source": [
    "safes[safes.duplicated(['filename'],keep=False)][['filename']]"
   ]
  },
  {
   "cell_type": "markdown",
   "metadata": {},
   "source": [
    "### Example 2\n",
    "Cyclone track colocalization"
   ]
  },
  {
   "cell_type": "code",
   "execution_count": null,
   "metadata": {
    "scrolled": true
   },
   "outputs": [],
   "source": [
    "import pandas as pd\n",
    "#ibtracs=gpd.read_file('tmp/IBTrACS.NA.list.v04r00.points.shp')\n",
    "#gdf_track=ibtracs[ibtracs['SID'] == '2019235N10324']\n",
    "#gdf_track=gdf_track[['ISO_TIME','USA_WIND','geometry']]\n",
    "#gdf_track['ISO_TIME']=pd.to_datetime(gdf_track['ISO_TIME'],format=\"%Y-%m-%d %H:%M:%S\")\n",
    "#gdf_track.reset_index(inplace = True,drop=True) \n",
    "#gdf_track.to_file(\"track.gpkg\", driver=\"GPKG\")\n",
    "\n",
    "gdf_track = gpd.read_file('track.gpkg')\n",
    "gdf_track['ISO_TIME']=pd.to_datetime(gdf_track['ISO_TIME'],format=\"%Y-%m-%d %H:%M:%S\")\n",
    "gdf_track"
   ]
  },
  {
   "cell_type": "code",
   "execution_count": null,
   "metadata": {
    "scrolled": false
   },
   "outputs": [],
   "source": [
    "fig = plt.figure(figsize=(10,7))\n",
    "safes = scihubQuery(\n",
    "        gdf=gdf_track,\n",
    "        date='ISO_TIME', # no startdate/stopdate, but a date ans a dtime\n",
    "        dtime=datetime.timedelta(hours=1.5),\n",
    "        user=user,\n",
    "        password=password,\n",
    "        datatake=1,   # take adjacents safes, up to one.\n",
    "        filename='S1?_?W_GRD*.SAFE',\n",
    "        cachedir='/home1/scratch/oarcher/scihub_cache',\n",
    "        fig=fig)"
   ]
  },
  {
   "cell_type": "markdown",
   "metadata": {},
   "source": [
    "#### datatake\n",
    "\n",
    "Here, `datatake=1` is specified to retrieve adjacents safes from colocated ones (in cyan). When specified, the result contain a `datatake_index` column. 0 means the colocated one, and other values are the range of the adjacent safe (up to -n..n with `datatake=n`)\n",
    "\n",
    "Positive `datatake_index` are for safes *after* the colocated one, and negative index are fo safes *before* the colocated one."
   ]
  },
  {
   "cell_type": "code",
   "execution_count": null,
   "metadata": {},
   "outputs": [],
   "source": [
    "safes[['filename','datatake_index']]"
   ]
  },
  {
   "cell_type": "markdown",
   "metadata": {},
   "source": [
    "#### Time slicing with timedelta_slice\n",
    "\n",
    "One can see on previous figure that 3 requests are done (ie 3 red area). gdf rows are grouped to reduce the amount of scihub requests with the `timedelta_slice` parameter (default to `datetime.timedelta(weeks=1)` )\n",
    "\n",
    "If we reduce `timedelta_slice`, we can see that more scihub request are done, with less uncolocated safes (ie yellow). (be warned with a big `timedelta_slice` : this can produce scihub timeouts).\n",
    "\n",
    "(with `timedelta_slice=None`, this feature is *disabled* : a scihub request is done for *every* geometry)."
   ]
  },
  {
   "cell_type": "code",
   "execution_count": null,
   "metadata": {},
   "outputs": [],
   "source": [
    "# same request as above, but with reduced timedelta_slice\n",
    "fig = plt.figure(figsize=(10,7))\n",
    "safes = scihubQuery(\n",
    "        gdf=gdf_track,\n",
    "        date='ISO_TIME',\n",
    "        dtime=datetime.timedelta(hours=1.5),\n",
    "        user=user,\n",
    "        password=password,\n",
    "        timedelta_slice=datetime.timedelta(days=1),\n",
    "        datatake=1,\n",
    "        filename='S1?_?W_GRD*.SAFE',\n",
    "        cachedir='/home1/scratch/oarcher/scihub_cache',\n",
    "        fig=fig)"
   ]
  },
  {
   "cell_type": "markdown",
   "metadata": {},
   "source": [
    "#### Merging source and result with shared index\n",
    "\n",
    "As seen before, the result (safes) share the same index as the source. So we can merge the two geodataframe, to associate a wind speed from the cyclone track with the safe, and compute distance from the eye to the safe."
   ]
  },
  {
   "cell_type": "code",
   "execution_count": null,
   "metadata": {},
   "outputs": [],
   "source": [
    "# here, we merge the result with the source request, to associate wind speed to each safe.\n",
    "merged=safes[['filename','datatake_index','footprint']].merge(\n",
    "    gdf_track[['USA_WIND','geometry']],left_index=True,right_index=True)\n",
    "merged['eye_dist'] = merged.set_geometry('geometry').distance(merged.set_geometry('footprint').exterior)\n",
    "# negative dist if safe contains eye\n",
    "merged['eye_dist']=merged['eye_dist']*(((~merged.set_geometry('footprint').contains(merged.set_geometry('geometry'))+1)*2)-3)\n",
    "merged[['filename','datatake_index','USA_WIND','eye_dist']]\n"
   ]
  },
  {
   "cell_type": "markdown",
   "metadata": {},
   "source": [
    "## Annexes\n",
    "\n",
    "### Antimeridian handling: small geometry vs large one\n",
    "\n",
    "\n",
    "Given 2 points on the earth, there is two possible paths: one short, and one long that wrap around the earth.\n",
    "\n",
    "By default, geometry are the smallest ones. To preserve a large geometry,  GeometryCollection must be used.\n"
   ]
  },
  {
   "cell_type": "code",
   "execution_count": null,
   "metadata": {},
   "outputs": [],
   "source": [
    "from shapely.geometry import GeometryCollection\n",
    "\n",
    "# the polygon is more than 180 deg wide : it will be wrapped, and will cross antimeridian\n",
    "large_poly = wkt.loads(\"POLYGON ((-140 -14, 140 -14, 140 -20, -140 -20, -140 -14))\")\n",
    "\n",
    "gdf = gpd.GeoDataFrame({\n",
    "        \"beginposition\" : [ datetime.datetime(2018,10,1)],\n",
    "        \"endposition\"   : [ datetime.datetime(2018,10,31) ],\n",
    "        \"geometry\"      : [ large_poly ]    \n",
    "    },index=[0])\n",
    "\n",
    "fig = plt.figure(figsize=(10,7))\n",
    "safes = scihubQuery(\n",
    "        gdf=gdf,\n",
    "        user=user,\n",
    "        password=password,\n",
    "        filename='S1?_?W_GRD*.SAFE',\n",
    "        cachedir='/home1/scratch/oarcher/scihub_cache',\n",
    "        fig=fig)\n",
    "plt.show()\n",
    "\n",
    "# same polygon, but encapsulated in a GeometryCollection : it will not be wrapped\n",
    "gdf = gpd.GeoDataFrame({\n",
    "        \"beginposition\" : [ datetime.datetime(2018,10,1)],\n",
    "        \"endposition\"   : [ datetime.datetime(2018,10,31) ],\n",
    "        \"geometry\"      : [ GeometryCollection([large_poly]) ]    \n",
    "    },index=[0])\n",
    "\n",
    "fig = plt.figure(figsize=(10,7))\n",
    "safes = scihubQuery(\n",
    "        gdf=gdf,\n",
    "        user=user,\n",
    "        password=password,\n",
    "        filename='S1?_?W_GRD*.SAFE',\n",
    "        cachedir='/home1/scratch/oarcher/scihub_cache',\n",
    "        fig=fig)\n",
    "plt.show()\n",
    "\n",
    "gdf"
   ]
  }
 ],
 "metadata": {
  "kernelspec": {
   "display_name": "Python 3",
   "language": "python",
   "name": "python3"
  },
  "language_info": {
   "codemirror_mode": {
    "name": "ipython",
    "version": 3
   },
   "file_extension": ".py",
   "mimetype": "text/x-python",
   "name": "python",
   "nbconvert_exporter": "python",
   "pygments_lexer": "ipython3",
   "version": "3.7.0"
  }
 },
 "nbformat": 4,
 "nbformat_minor": 2
}
